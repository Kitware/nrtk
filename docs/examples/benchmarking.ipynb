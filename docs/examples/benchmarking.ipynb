{
 "cells": [
  {
   "cell_type": "markdown",
   "id": "bab95d85-577c-4d5c-b5a0-6da6815e6ccc",
   "metadata": {},
   "source": [
    "# Benchmarking NRTK Perturbers"
   ]
  },
  {
   "cell_type": "markdown",
   "id": "7e480fcb-de67-43a0-a369-aab9e1f87a78",
   "metadata": {},
   "source": [
    "This notebook provides a simple, consistent way to benchmark NRTK perturbers. Each perturber is benchmarked with the same parameters defined in cell 2. Perturbers are configured individually, but similar perturbers use the same configuration (i.e., OTF perturbers using the same sensor/scenario configuration)."
   ]
  },
  {
   "cell_type": "markdown",
   "id": "0665147a-47ba-4103-8d9b-63c6a94936fd",
   "metadata": {},
   "source": [
    "## Setup"
   ]
  },
  {
   "cell_type": "code",
   "execution_count": 1,
   "id": "7d9b61af-ecff-41fb-b36c-8d09fd8744fb",
   "metadata": {},
   "outputs": [],
   "source": [
    "import time\n",
    "from typing import Any, Optional\n",
    "\n",
    "import numpy as np\n",
    "\n",
    "from nrtk.interfaces.perturb_image import PerturbImage\n",
    "\n",
    "\n",
    "def _benchmark(\n",
    "    perturber: PerturbImage,\n",
    "    additional_params: Optional[dict[str, Any]] = None,\n",
    "    num_of_images: int = 75,\n",
    "    seed: int = 21,\n",
    "    min_img_size: tuple[int, int] = (256, 256),\n",
    "    max_img_size: tuple[int, int] = (257, 257),\n",
    "    verbose: bool = False,\n",
    ") -> dict[str, Any]:\n",
    "    rng = np.random.default_rng(seed=seed)\n",
    "    benchmark_logs: dict[str, Any] = {\"type\": perturber.get_type_string(), \"slowest\": {}, \"fastest\": {}}\n",
    "    total_time = 0\n",
    "    for _ in range(num_of_images):\n",
    "        img_width = rng.integers(low=min_img_size[0], high=max_img_size[0])\n",
    "        img_height = rng.integers(low=min_img_size[1], high=max_img_size[1])\n",
    "        img = rng.integers(low=0, high=256, size=(img_width, img_height, 3), dtype=np.uint8)\n",
    "        s = time.perf_counter()\n",
    "        perturber(img, additional_params=additional_params)\n",
    "        e = time.perf_counter()\n",
    "        execution_time = e - s\n",
    "        if not benchmark_logs[\"slowest\"] or execution_time > benchmark_logs[\"slowest\"][\"time\"]:\n",
    "            benchmark_logs[\"slowest\"] = {\"time\": execution_time, \"image_size\": img.shape}\n",
    "\n",
    "        if not benchmark_logs[\"fastest\"] or execution_time < benchmark_logs[\"fastest\"][\"time\"]:\n",
    "            benchmark_logs[\"fastest\"] = {\"time\": execution_time, \"image_size\": img.shape}\n",
    "\n",
    "        total_time += execution_time\n",
    "    benchmark_logs[\"avg_time\"] = total_time / num_of_images\n",
    "    if verbose:\n",
    "        _print_results(benchmark_logs)\n",
    "    return benchmark_logs\n",
    "\n",
    "\n",
    "def _print_results(results: dict[str, Any]) -> None:\n",
    "    print(results[\"type\"])\n",
    "    print(f\"Average Time: {results['avg_time']}\")\n",
    "    print(f\"Fastest Time: {results['fastest']['time']}\\tImage Size: {results['fastest']['image_size']}\")\n",
    "    print(f\"Slowest Time: {results['slowest']['time']}\\tImage Size: {results['slowest']['image_size']}\\n\")"
   ]
  },
  {
   "cell_type": "code",
   "execution_count": 2,
   "id": "0bf536fe-9879-4f34-ada2-dce33e5850ba",
   "metadata": {},
   "outputs": [],
   "source": [
    "results = []\n",
    "num_of_images = 75\n",
    "min_img_size = (256, 256)\n",
    "max_img_size = (512, 512)\n",
    "\n",
    "\n",
    "def benchmark_helper(perturber: PerturbImage, additional_params: Optional[dict[str, Any]] = None) -> None:\n",
    "    \"\"\"Helper function to execute _benchmark with the given parameters.\"\"\"\n",
    "    results.append(\n",
    "        _benchmark(\n",
    "            perturber=perturber,\n",
    "            additional_params=additional_params,\n",
    "            num_of_images=num_of_images,\n",
    "            min_img_size=min_img_size,\n",
    "            max_img_size=max_img_size,\n",
    "        ),\n",
    "    )"
   ]
  },
  {
   "cell_type": "markdown",
   "id": "968fd572-3b33-4ff5-a992-780309389b3f",
   "metadata": {},
   "source": [
    "## cv2 Perturbers"
   ]
  },
  {
   "cell_type": "code",
   "execution_count": 3,
   "id": "336bdd1d-c4c2-473b-8913-cb767f843f94",
   "metadata": {},
   "outputs": [],
   "source": [
    "from nrtk.impls.perturb_image.generic.cv2.blur import (\n",
    "    AverageBlurPerturber,\n",
    "    GaussianBlurPerturber,\n",
    "    MedianBlurPerturber,\n",
    ")\n",
    "\n",
    "ksize = 3\n",
    "\n",
    "benchmark_helper(perturber=AverageBlurPerturber(ksize=ksize))\n",
    "benchmark_helper(perturber=GaussianBlurPerturber(ksize=ksize))\n",
    "benchmark_helper(perturber=MedianBlurPerturber(ksize=ksize))"
   ]
  },
  {
   "cell_type": "markdown",
   "id": "151dd17e-6303-457d-8c85-73459f5728c4",
   "metadata": {},
   "source": [
    "## PIL Perturbers"
   ]
  },
  {
   "cell_type": "code",
   "execution_count": 4,
   "id": "ee4d17a0-72bb-437f-8391-1962eab8dac0",
   "metadata": {},
   "outputs": [],
   "source": [
    "from nrtk.impls.perturb_image.generic.PIL.enhance import (\n",
    "    BrightnessPerturber,\n",
    "    ColorPerturber,\n",
    "    ContrastPerturber,\n",
    "    SharpnessPerturber,\n",
    ")\n",
    "\n",
    "factor = 0.5\n",
    "\n",
    "benchmark_helper(BrightnessPerturber(factor=factor))\n",
    "benchmark_helper(ColorPerturber(factor=factor))\n",
    "benchmark_helper(ContrastPerturber(factor=factor))\n",
    "benchmark_helper(SharpnessPerturber(factor=factor))"
   ]
  },
  {
   "cell_type": "markdown",
   "id": "a37db941-76d2-4b68-a408-4a685a6e84f7",
   "metadata": {},
   "source": [
    "## skimage Perturbers"
   ]
  },
  {
   "cell_type": "code",
   "execution_count": 5,
   "id": "9ea72121-70aa-423b-8603-01087cf39a91",
   "metadata": {},
   "outputs": [],
   "source": [
    "from nrtk.impls.perturb_image.generic.skimage.random_noise import (\n",
    "    GaussianNoisePerturber,\n",
    "    PepperNoisePerturber,\n",
    "    SaltAndPepperNoisePerturber,\n",
    "    SaltNoisePerturber,\n",
    "    SpeckleNoisePerturber,\n",
    ")\n",
    "\n",
    "mean = 0\n",
    "var = 0.05\n",
    "\n",
    "benchmark_helper(GaussianNoisePerturber(mean=mean, var=var))\n",
    "benchmark_helper(SpeckleNoisePerturber(mean=mean, var=var))\n",
    "\n",
    "amount = 0.5\n",
    "\n",
    "benchmark_helper(PepperNoisePerturber(amount=amount))\n",
    "benchmark_helper(SaltAndPepperNoisePerturber(amount=amount))\n",
    "benchmark_helper(SaltNoisePerturber(amount=amount))"
   ]
  },
  {
   "cell_type": "markdown",
   "id": "741cf59b-3ceb-43d0-a8a7-1cc1dab82ec3",
   "metadata": {},
   "source": [
    "## Generic Perturbers"
   ]
  },
  {
   "cell_type": "code",
   "execution_count": 6,
   "id": "059779d4-5291-42ba-869f-f5729e4e998c",
   "metadata": {},
   "outputs": [],
   "source": [
    "from nrtk.impls.perturb_image.generic.crop_perturber import RandomCropPerturber\n",
    "from nrtk.impls.perturb_image.generic.haze_perturber import HazePerturber\n",
    "from nrtk.impls.perturb_image.generic.radial_distortion_perturber import RadialDistortionPerturber\n",
    "from nrtk.impls.perturb_image.generic.translation_perturber import RandomTranslationPerturber\n",
    "from nrtk.impls.perturb_image.generic.water_droplet_perturber import WaterDropletPerturber\n",
    "\n",
    "benchmark_helper(RandomCropPerturber())\n",
    "benchmark_helper(HazePerturber())\n",
    "benchmark_helper(RadialDistortionPerturber())\n",
    "benchmark_helper(RandomTranslationPerturber())\n",
    "benchmark_helper(WaterDropletPerturber())"
   ]
  },
  {
   "cell_type": "markdown",
   "id": "76776fea-e823-412a-ad95-a290cc1fe20b",
   "metadata": {},
   "source": [
    "## pyBSM Perturbers "
   ]
  },
  {
   "cell_type": "code",
   "execution_count": 7,
   "id": "4fb036f7-10f0-44c5-9eec-ab752a0ac169",
   "metadata": {},
   "outputs": [],
   "source": [
    "from pybsm.otf import dark_current_from_density\n",
    "\n",
    "from nrtk.impls.perturb_image.pybsm.scenario import PybsmScenario\n",
    "from nrtk.impls.perturb_image.pybsm.sensor import PybsmSensor\n",
    "\n",
    "\n",
    "def _create_sample_sensor() -> PybsmSensor:\n",
    "    name = \"L32511x\"\n",
    "\n",
    "    # telescope focal length (m)\n",
    "    f = 4\n",
    "    # Telescope diameter (m)\n",
    "    D = 275e-3  # noqa: N806\n",
    "\n",
    "    # detector pitch (m)\n",
    "    p_x = 0.008e-3\n",
    "\n",
    "    # Optical system transmission, red  band first (m)\n",
    "    opt_trans_wavelengths = np.array([0.58 - 0.08, 0.58 + 0.08]) * 1.0e-6\n",
    "    # guess at the full system optical transmission (excluding obscuration)\n",
    "    optics_transmission = 0.5 * np.ones(opt_trans_wavelengths.shape[0])\n",
    "\n",
    "    # Relative linear telescope obscuration\n",
    "    eta = 0.4  # guess\n",
    "\n",
    "    # detector width is assumed to be equal to the pitch\n",
    "    w_x = p_x\n",
    "    w_y = p_x\n",
    "    # integration time (s) - this is a maximum, the actual integration time will be\n",
    "    # determined by the well fill percentage\n",
    "    int_time = 30.0e-3\n",
    "\n",
    "    # the number of time-delay integration stages (relevant only when TDI\n",
    "    # cameras are used. For CMOS cameras, the value can be assumed to be 1.0)\n",
    "    n_tdi = 1.0\n",
    "\n",
    "    # dark current density of 1 nA/cm2 guess, guess mid range for a\n",
    "    # silicon camera\n",
    "    # dark current density of 1 nA/cm2 guess, guess mid range for a silicon camera\n",
    "    # Type ignore added for pyright's handling of guarded imports\n",
    "    dark_current = dark_current_from_density(1e-5, w_x, w_y)  # pyright: ignore [reportPossiblyUnboundVariable]\n",
    "\n",
    "    # rms read noise (rms electrons)\n",
    "    read_noise = 25.0\n",
    "\n",
    "    # maximum ADC level (electrons)\n",
    "    max_n = 96000\n",
    "\n",
    "    # bit depth\n",
    "    bit_depth = 11.9\n",
    "\n",
    "    # maximum allowable well fill (see the paper for the logic behind this)\n",
    "    max_well_fill = 0.6\n",
    "\n",
    "    # jitter (radians) - The Olson paper says that its \"good\" so we'll guess 1/4 ifov rms\n",
    "    s_x = 0.25 * p_x / f\n",
    "    s_y = s_x\n",
    "\n",
    "    # drift (radians/s) - again, we'll guess that it's really good\n",
    "    da_x = 100e-6\n",
    "    da_y = da_x\n",
    "\n",
    "    # etector quantum efficiency as a function of wavelength (microns)\n",
    "    # for a generic high quality back-illuminated silicon array\n",
    "    # https://www.photometrics.com/resources/learningzone/quantumefficiency.php\n",
    "    qe_wavelengths = np.array([0.3, 0.4, 0.5, 0.6, 0.7, 0.8, 0.9, 1.0, 1.1]) * 1.0e-6\n",
    "    qe = np.array([0.05, 0.6, 0.75, 0.85, 0.85, 0.75, 0.5, 0.2, 0])\n",
    "\n",
    "    return PybsmSensor(\n",
    "        name=name,\n",
    "        D=D,\n",
    "        f=f,\n",
    "        p_x=p_x,\n",
    "        opt_trans_wavelengths=opt_trans_wavelengths,\n",
    "        optics_transmission=optics_transmission,\n",
    "        eta=eta,\n",
    "        w_x=w_x,\n",
    "        w_y=w_y,\n",
    "        int_time=int_time,\n",
    "        n_tdi=n_tdi,\n",
    "        dark_current=dark_current,\n",
    "        read_noise=read_noise,\n",
    "        max_n=max_n,\n",
    "        bit_depth=bit_depth,\n",
    "        max_well_fill=max_well_fill,\n",
    "        s_x=s_x,\n",
    "        s_y=s_y,\n",
    "        da_x=da_x,\n",
    "        da_y=da_y,\n",
    "        qe_wavelengths=qe_wavelengths,\n",
    "        qe=qe,\n",
    "    )\n",
    "\n",
    "\n",
    "def _create_sample_scenario() -> PybsmScenario:\n",
    "    altitude = 9000.0\n",
    "    # range to target\n",
    "    ground_range = 60000.0\n",
    "\n",
    "    scenario_name = \"niceday\"\n",
    "    # weather model\n",
    "    ihaze = 1\n",
    "\n",
    "    aircraft_speed = 100.0\n",
    "\n",
    "    return PybsmScenario(\n",
    "        scenario_name,\n",
    "        ihaze,\n",
    "        altitude,\n",
    "        ground_range,\n",
    "        aircraft_speed,\n",
    "    )\n",
    "\n",
    "\n",
    "def _create_sample_sensor_and_scenario() -> tuple[PybsmSensor, PybsmScenario]:\n",
    "    return _create_sample_sensor(), _create_sample_scenario()"
   ]
  },
  {
   "cell_type": "markdown",
   "id": "8b88fcb2-d1fc-493f-84ed-07aa084f541d",
   "metadata": {},
   "source": [
    "### OTF Perturbers"
   ]
  },
  {
   "cell_type": "code",
   "execution_count": 8,
   "id": "041646a2-bdab-42e7-b0dd-7423300bac12",
   "metadata": {},
   "outputs": [],
   "source": [
    "from nrtk.impls.perturb_image.pybsm.circular_aperture_otf_perturber import CircularApertureOTFPerturber\n",
    "from nrtk.impls.perturb_image.pybsm.defocus_otf_perturber import DefocusOTFPerturber\n",
    "from nrtk.impls.perturb_image.pybsm.detector_otf_perturber import DetectorOTFPerturber\n",
    "from nrtk.impls.perturb_image.pybsm.jitter_otf_perturber import JitterOTFPerturber\n",
    "from nrtk.impls.perturb_image.pybsm.turbulence_aperture_otf_perturber import TurbulenceApertureOTFPerturber\n",
    "\n",
    "img_gsd = 3.19 / 160.0\n",
    "sensor, scenario = _create_sample_sensor_and_scenario()\n",
    "\n",
    "benchmark_helper(CircularApertureOTFPerturber(sensor=sensor, scenario=scenario), additional_params={\"img_gsd\": img_gsd})\n",
    "benchmark_helper(DefocusOTFPerturber(sensor=sensor, scenario=scenario), additional_params={\"img_gsd\": img_gsd})\n",
    "benchmark_helper(DetectorOTFPerturber(sensor=sensor, scenario=scenario), additional_params={\"img_gsd\": img_gsd})\n",
    "benchmark_helper(JitterOTFPerturber(sensor=sensor, scenario=scenario), additional_params={\"img_gsd\": img_gsd})\n",
    "benchmark_helper(\n",
    "    TurbulenceApertureOTFPerturber(sensor=sensor, scenario=scenario),\n",
    "    additional_params={\"img_gsd\": img_gsd},\n",
    ")"
   ]
  },
  {
   "cell_type": "markdown",
   "id": "dba0cf30-4516-476f-8d35-1da5990c5a01",
   "metadata": {},
   "source": [
    "### pyBSM Perturber"
   ]
  },
  {
   "cell_type": "code",
   "execution_count": 9,
   "id": "45e69707-e7d3-43c2-acf5-40a5747548e4",
   "metadata": {},
   "outputs": [],
   "source": [
    "from nrtk.impls.perturb_image.pybsm.perturber import PybsmPerturber\n",
    "\n",
    "img_gsd = 3.19 / 160.0\n",
    "sensor, scenario = _create_sample_sensor_and_scenario()\n",
    "\n",
    "benchmark_helper(\n",
    "    PybsmPerturber(sensor=sensor, scenario=scenario, ground_range=10000),\n",
    "    additional_params={\"img_gsd\": img_gsd},\n",
    ")"
   ]
  },
  {
   "cell_type": "markdown",
   "id": "f7d8a7a9-bc26-44b7-8c46-a10fd882f51e",
   "metadata": {},
   "source": [
    "## All Results"
   ]
  },
  {
   "cell_type": "code",
   "execution_count": 10,
   "id": "d3d7fe2c-d22a-46d5-ae6f-f9d61f0a43e2",
   "metadata": {},
   "outputs": [
    {
     "name": "stdout",
     "output_type": "stream",
     "text": [
      "Name                              Average Time    Fastest Time  Fastest Image Size      Slowest Time  Slowest Image Size\n",
      "------------------------------  --------------  --------------  --------------------  --------------  --------------------\n",
      "AverageBlurPerturber               0.000152009     6.7905e-05   (290, 262, 3)            0.000579561  (333, 455, 3)\n",
      "GaussianBlurPerturber              0.000121679     3.1583e-05   (272, 259, 3)            0.00140095   (333, 455, 3)\n",
      "MedianBlurPerturber                0.000199851     7.6289e-05   (272, 259, 3)            0.000401447  (509, 360, 3)\n",
      "BrightnessPerturber                0.00114182      0.000484168  (290, 262, 3)            0.00218264   (487, 451, 3)\n",
      "ColorPerturber                     0.00135932      0.000598738  (290, 262, 3)            0.00250142   (509, 476, 3)\n",
      "ContrastPerturber                  0.00151416      0.000781719  (290, 262, 3)            0.00259382   (509, 476, 3)\n",
      "SharpnessPerturber                 0.00323243      0.00151175   (290, 262, 3)            0.00567661   (433, 410, 3)\n",
      "GaussianNoisePerturber             0.011708        0.00519112   (272, 259, 3)            0.0177209    (445, 390, 3)\n",
      "SpeckleNoisePerturber              0.0117931       0.00578867   (272, 259, 3)            0.0164758    (509, 476, 3)\n",
      "PepperNoisePerturber               0.0115513       0.00478306   (272, 259, 3)            0.0188686    (504, 342, 3)\n",
      "SaltAndPepperNoisePerturber        0.0125037       0.00506852   (272, 259, 3)            0.0174267    (509, 476, 3)\n",
      "SaltNoisePerturber                 0.0115477       0.00467053   (290, 262, 3)            0.0167167    (509, 476, 3)\n",
      "RandomCropPerturber                2.38737e-05     1.427e-05    (272, 259, 3)            6.4141e-05   (438, 478, 3)\n",
      "HazePerturber                      0.00950026      0.00435007   (302, 319, 3)            0.0144147    (511, 442, 3)\n",
      "RadialDistortionPerturber          0.0062286       0.00281055   (272, 259, 3)            0.010607     (509, 476, 3)\n",
      "RandomTranslationPerturber         0.00102408      0.000501408  (272, 259, 3)            0.00166424   (509, 476, 3)\n",
      "WaterDropletPerturber             17.2104         16.3726       (359, 503, 3)           17.7517       (509, 476, 3)\n",
      "CircularApertureOTFPerturber       4.22452         4.074        (443, 403, 3)            4.52722      (333, 455, 3)\n",
      "DefocusOTFPerturber                0.737456        0.729473     (270, 350, 3)            0.750546     (333, 455, 3)\n",
      "DetectorOTFPerturber               0.766052        0.758339     (326, 397, 3)            0.785035     (333, 455, 3)\n",
      "JitterOTFPerturber                 0.727468        0.715418     (363, 335, 3)            0.738459     (433, 410, 3)\n",
      "TurbulenceApertureOTFPerturber     3.94927         3.88921      (505, 265, 3)            3.98086      (416, 432, 3)\n",
      "PybsmPerturber                     8.58376         8.30427      (272, 259, 3)            8.75533      (509, 476, 3)\n"
     ]
    }
   ],
   "source": [
    "from tabulate import tabulate\n",
    "\n",
    "headers = [\"Name\", \"Average Time\", \"Fastest Time\", \"Fastest Image Size\", \"Slowest Time\", \"Slowest Image Size\"]\n",
    "rows = [\n",
    "    [\n",
    "        result[\"type\"].split(\".\")[-1],\n",
    "        result[\"avg_time\"],\n",
    "        result[\"fastest\"][\"time\"],\n",
    "        result[\"fastest\"][\"image_size\"],\n",
    "        result[\"slowest\"][\"time\"],\n",
    "        result[\"slowest\"][\"image_size\"],\n",
    "    ]\n",
    "    for result in results\n",
    "]\n",
    "print(tabulate(rows, headers=headers))"
   ]
  }
 ],
 "metadata": {
  "kernelspec": {
   "display_name": "Python 3 (ipykernel)",
   "language": "python",
   "name": "python3"
  },
  "language_info": {
   "codemirror_mode": {
    "name": "ipython",
    "version": 3
   },
   "file_extension": ".py",
   "mimetype": "text/x-python",
   "name": "python",
   "nbconvert_exporter": "python",
   "pygments_lexer": "ipython3",
   "version": "3.10.12"
  }
 },
 "nbformat": 4,
 "nbformat_minor": 5
}
