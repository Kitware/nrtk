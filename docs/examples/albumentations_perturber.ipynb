{
 "cells": [
  {
   "cell_type": "markdown",
   "id": "e576c60e-3d34-4777-833b-aec98534ac26",
   "metadata": {},
   "source": [
    "# Example Notebook for Albumentations perturbers with NRTK\n",
    "\n",
    "This simple notebook demonstrates how to use Albumentations perturbers in an NRTK context, we use a sample image from the [VisDrone](https://github.com/VisDrone/VisDrone-Dataset) dataset.\n",
    "\n",
    "Documentation on the available perturbers and their parameters can be found on the [documentation for the Albumentations module](https://albumentations.ai/docs/examples/example_weather_transforms/)"
   ]
  },
  {
   "cell_type": "markdown",
   "id": "fcfca85e-cbb9-48f6-993a-e01ee50bde5a",
   "metadata": {},
   "source": [
    "## Set Up the Environment <a name=\"environment-setup\"></a>"
   ]
  },
  {
   "cell_type": "markdown",
   "id": "4e78242a",
   "metadata": {},
   "source": [
    "Note: We are suppressing warnings within this notebook to reduce visual clutter for demonstration purposes. If any issues arise while executing this notebook, we recommend that this cell is **not** executed so that any related warnings are shown. "
   ]
  },
  {
   "cell_type": "code",
   "execution_count": 1,
   "id": "16e07e70",
   "metadata": {},
   "outputs": [],
   "source": [
    "import warnings\n",
    "\n",
    "warnings.filterwarnings(\"ignore\")"
   ]
  },
  {
   "cell_type": "code",
   "execution_count": 2,
   "id": "e9418712-d84e-4004-8ec2-9d45e3369050",
   "metadata": {},
   "outputs": [
    {
     "name": "stdout",
     "output_type": "stream",
     "text": [
      "Installing nrtk...\n",
      "Installing matplotlib...\n",
      "Installing headless OpenCV...\n",
      "Installing albumentations...\n",
      "Done!\n"
     ]
    }
   ],
   "source": [
    "import sys  # noqa: F401\n",
    "\n",
    "!{sys.executable} -m pip install -qU pip\n",
    "print(\"Installing nrtk...\")\n",
    "!{sys.executable} -m pip install -q nrtk\n",
    "print(\"Installing matplotlib...\")\n",
    "!{sys.executable} -m pip install -q matplotlib\n",
    "print(\"Installing headless OpenCV...\")\n",
    "!{sys.executable} -m pip uninstall -qy opencv-python opencv-python-headless  # make sure they're both gone.\n",
    "!{sys.executable} -m pip install -q opencv-python-headless\n",
    "print(\"Installing albumentations...\")\n",
    "!{sys.executable} -m pip install -q albumentations\n",
    "print(\"Done!\")"
   ]
  },
  {
   "cell_type": "code",
   "execution_count": 3,
   "id": "0b9dc90a-7456-4c02-85be-16cb8dd55367",
   "metadata": {},
   "outputs": [
    {
     "ename": "NameError",
     "evalue": "name 'override' is not defined",
     "output_type": "error",
     "traceback": [
      "\u001b[0;31m---------------------------------------------------------------------------\u001b[0m",
      "\u001b[0;31mNameError\u001b[0m                                 Traceback (most recent call last)",
      "Cell \u001b[0;32mIn[3], line 14\u001b[0m\n\u001b[1;32m     11\u001b[0m \u001b[38;5;28;01mfrom\u001b[39;00m \u001b[38;5;21;01mPIL\u001b[39;00m \u001b[38;5;28;01mimport\u001b[39;00m Image\n\u001b[1;32m     12\u001b[0m \u001b[38;5;28;01mfrom\u001b[39;00m \u001b[38;5;21;01msmqtk_image_io\u001b[39;00m\u001b[38;5;21;01m.\u001b[39;00m\u001b[38;5;21;01mbbox\u001b[39;00m \u001b[38;5;28;01mimport\u001b[39;00m AxisAlignedBoundingBox\n\u001b[0;32m---> 14\u001b[0m \u001b[38;5;28;01mfrom\u001b[39;00m \u001b[38;5;21;01mnrtk\u001b[39;00m\u001b[38;5;21;01m.\u001b[39;00m\u001b[38;5;21;01mimpls\u001b[39;00m\u001b[38;5;21;01m.\u001b[39;00m\u001b[38;5;21;01mperturb_image\u001b[39;00m\u001b[38;5;21;01m.\u001b[39;00m\u001b[38;5;21;01malbumentations\u001b[39;00m\u001b[38;5;21;01m.\u001b[39;00m\u001b[38;5;21;01malbumentations_perturber\u001b[39;00m \u001b[38;5;28;01mimport\u001b[39;00m AlbumentationsPerturber\n",
      "File \u001b[0;32m~/vision/nrtk/src/nrtk/impls/perturb_image/albumentations/albumentations_perturber.py:33\u001b[0m\n\u001b[1;32m     29\u001b[0m \u001b[38;5;28;01mfrom\u001b[39;00m \u001b[38;5;21;01mnrtk\u001b[39;00m\u001b[38;5;21;01m.\u001b[39;00m\u001b[38;5;21;01minterfaces\u001b[39;00m\u001b[38;5;21;01m.\u001b[39;00m\u001b[38;5;21;01mperturb_image\u001b[39;00m \u001b[38;5;28;01mimport\u001b[39;00m PerturbImage\n\u001b[1;32m     30\u001b[0m \u001b[38;5;28;01mfrom\u001b[39;00m \u001b[38;5;21;01mnrtk\u001b[39;00m\u001b[38;5;21;01m.\u001b[39;00m\u001b[38;5;21;01mutils\u001b[39;00m\u001b[38;5;21;01m.\u001b[39;00m\u001b[38;5;21;01m_exceptions\u001b[39;00m \u001b[38;5;28;01mimport\u001b[39;00m AlbumentationsImportError\n\u001b[0;32m---> 33\u001b[0m \u001b[38;5;28;01mclass\u001b[39;00m \u001b[38;5;21;01mAlbumentationsPerturber\u001b[39;00m(PerturbImage):\n\u001b[1;32m     34\u001b[0m \u001b[38;5;250m    \u001b[39m\u001b[38;5;124;03m\"\"\"\u001b[39;00m\n\u001b[1;32m     35\u001b[0m \u001b[38;5;124;03m    AlbumentationsPerturber applies a BasicTransform from Albumentations\u001b[39;00m\n\u001b[1;32m     36\u001b[0m \u001b[38;5;124;03m    Methods:\u001b[39;00m\n\u001b[0;32m   (...)\u001b[0m\n\u001b[1;32m     39\u001b[0m \u001b[38;5;124;03m    get_config: Returns the current configuration of the AlbumentationsPerturber instance.\u001b[39;00m\n\u001b[1;32m     40\u001b[0m \u001b[38;5;124;03m    \"\"\"\u001b[39;00m\n\u001b[1;32m     42\u001b[0m     \u001b[38;5;28;01mdef\u001b[39;00m \u001b[38;5;21m__init__\u001b[39m(\n\u001b[1;32m     43\u001b[0m         \u001b[38;5;28mself\u001b[39m,\n\u001b[1;32m     44\u001b[0m         perturber: \u001b[38;5;28mstr\u001b[39m,\n\u001b[0;32m   (...)\u001b[0m\n\u001b[1;32m     47\u001b[0m         seed: Optional[\u001b[38;5;28mint\u001b[39m] \u001b[38;5;241m=\u001b[39m \u001b[38;5;28;01mNone\u001b[39;00m,\n\u001b[1;32m     48\u001b[0m     ) \u001b[38;5;241m-\u001b[39m\u001b[38;5;241m>\u001b[39m \u001b[38;5;28;01mNone\u001b[39;00m:\n",
      "File \u001b[0;32m~/vision/nrtk/src/nrtk/impls/perturb_image/albumentations/albumentations_perturber.py:100\u001b[0m, in \u001b[0;36mAlbumentationsPerturber\u001b[0;34m()\u001b[0m\n\u001b[1;32m     93\u001b[0m     as_aabb \u001b[38;5;241m=\u001b[39m convert_bboxes_from_albumentations(  \u001b[38;5;66;03m# pyright: ignore [reportPossiblyUnboundVariable]\u001b[39;00m\n\u001b[1;32m     94\u001b[0m         flat,\n\u001b[1;32m     95\u001b[0m         \u001b[38;5;124m\"\u001b[39m\u001b[38;5;124mpascal_voc\u001b[39m\u001b[38;5;124m\"\u001b[39m,\n\u001b[1;32m     96\u001b[0m         {\u001b[38;5;124m\"\u001b[39m\u001b[38;5;124mheight\u001b[39m\u001b[38;5;124m\"\u001b[39m: image\u001b[38;5;241m.\u001b[39mshape[\u001b[38;5;241m0\u001b[39m], \u001b[38;5;124m\"\u001b[39m\u001b[38;5;124mwidth\u001b[39m\u001b[38;5;124m\"\u001b[39m: image\u001b[38;5;241m.\u001b[39mshape[\u001b[38;5;241m1\u001b[39m]},\n\u001b[1;32m     97\u001b[0m     )[\u001b[38;5;241m0\u001b[39m]\n\u001b[1;32m     98\u001b[0m     \u001b[38;5;28;01mreturn\u001b[39;00m AxisAlignedBoundingBox((as_aabb[\u001b[38;5;241m0\u001b[39m], as_aabb[\u001b[38;5;241m1\u001b[39m]), (as_aabb[\u001b[38;5;241m2\u001b[39m], as_aabb[\u001b[38;5;241m3\u001b[39m]))\n\u001b[0;32m--> 100\u001b[0m \u001b[38;5;129m@override\u001b[39m\n\u001b[1;32m    101\u001b[0m \u001b[38;5;28;01mdef\u001b[39;00m \u001b[38;5;21mperturb\u001b[39m(\n\u001b[1;32m    102\u001b[0m     \u001b[38;5;28mself\u001b[39m,\n\u001b[1;32m    103\u001b[0m     image: np\u001b[38;5;241m.\u001b[39mndarray,\n\u001b[1;32m    104\u001b[0m     boxes: Optional[Iterable[\u001b[38;5;28mtuple\u001b[39m[AxisAlignedBoundingBox, \u001b[38;5;28mdict\u001b[39m[Hashable, \u001b[38;5;28mfloat\u001b[39m]]]] \u001b[38;5;241m=\u001b[39m \u001b[38;5;28;01mNone\u001b[39;00m,\n\u001b[1;32m    105\u001b[0m     additional_params: Optional[\u001b[38;5;28mdict\u001b[39m[\u001b[38;5;28mstr\u001b[39m, Any]] \u001b[38;5;241m=\u001b[39m \u001b[38;5;28;01mNone\u001b[39;00m,  \u001b[38;5;66;03m# noqa ARG002\u001b[39;00m\n\u001b[1;32m    106\u001b[0m ) \u001b[38;5;241m-\u001b[39m\u001b[38;5;241m>\u001b[39m \u001b[38;5;28mtuple\u001b[39m[np\u001b[38;5;241m.\u001b[39mndarray, Optional[Iterable[\u001b[38;5;28mtuple\u001b[39m[AxisAlignedBoundingBox, \u001b[38;5;28mdict\u001b[39m[Hashable, \u001b[38;5;28mfloat\u001b[39m]]]]]:\n\u001b[1;32m    107\u001b[0m \u001b[38;5;250m    \u001b[39m\u001b[38;5;124;03m\"\"\"\u001b[39;00m\n\u001b[1;32m    108\u001b[0m \u001b[38;5;124;03m    Apply a BasicTransform from Albumentations to an image\u001b[39;00m\n\u001b[1;32m    109\u001b[0m \n\u001b[0;32m   (...)\u001b[0m\n\u001b[1;32m    114\u001b[0m \u001b[38;5;124;03m        Bounding boxes with their coordinates adjusted by the transform\u001b[39;00m\n\u001b[1;32m    115\u001b[0m \u001b[38;5;124;03m    \"\"\"\u001b[39;00m\n\u001b[1;32m    116\u001b[0m     \u001b[38;5;66;03m# Create bboxes in a format usable by Albumentations\u001b[39;00m\n",
      "\u001b[0;31mNameError\u001b[0m: name 'override' is not defined"
     ]
    }
   ],
   "source": [
    "%matplotlib inline\n",
    "%config InlineBackend.figure_format = \"jpeg\"  # Use JPEG format for inline visualizations\n",
    "import os\n",
    "import urllib.request\n",
    "from typing import TYPE_CHECKING, Union\n",
    "\n",
    "import numpy as np\n",
    "from matplotlib import patches\n",
    "from matplotlib import pyplot as plt\n",
    "from matplotlib.axes import Axes\n",
    "from PIL import Image\n",
    "from smqtk_image_io.bbox import AxisAlignedBoundingBox\n",
    "\n",
    "from nrtk.impls.perturb_image.albumentations.albumentations_perturber import AlbumentationsPerturber"
   ]
  },
  {
   "cell_type": "markdown",
   "id": "78b2378b-5f80-4c91-a095-8ca9c9fc3d15",
   "metadata": {},
   "source": [
    "## Select Initial Image <a name=\"init-image\"></a>\n",
    "\n",
    "We'll carry out perturbations on a single image from VisDrone."
   ]
  },
  {
   "cell_type": "code",
   "execution_count": null,
   "id": "f0157828-1bc4-4b0a-aca2-9b5ddee85e84",
   "metadata": {},
   "outputs": [],
   "source": [
    "data_dir = \"./data\"\n",
    "os.makedirs(data_dir, exist_ok=True)\n",
    "\n",
    "url = \"https://data.kitware.com/api/v1/item/623880f14acac99f429fe3ca/download\"\n",
    "\n",
    "img_path = os.path.join(data_dir, \"visdrone_img.jpg\")\n",
    "if not os.path.isfile(img_path):\n",
    "    _ = urllib.request.urlretrieve(url, img_path)  # noqa: S310\n",
    "\n",
    "img = np.asarray(Image.open(img_path))\n",
    "\n",
    "plt.figure(figsize=(8, 8))\n",
    "plt.axis(\"off\")\n",
    "_ = plt.imshow(img)"
   ]
  },
  {
   "cell_type": "markdown",
   "id": "a7d8920c-96fe-43e0-befc-a91d4ad0a1ea",
   "metadata": {},
   "source": [
    "We'll also define a helper functions for displaying our perturbations."
   ]
  },
  {
   "cell_type": "code",
   "execution_count": null,
   "id": "0dc9c05e-9f07-45a4-9a13-123f8c6f2ab6",
   "metadata": {},
   "outputs": [],
   "source": [
    "def display_pert(img: np.ndarray, descriptor: str = \"\", bbox: Union[AxisAlignedBoundingBox, None] = None) -> None:\n",
    "    \"\"\"Display perturbation\"\"\"\n",
    "    _, axs = plt.subplots(figsize=(8, 8))\n",
    "    if TYPE_CHECKING:\n",
    "        assert isinstance(axs, Axes)\n",
    "    if bbox:\n",
    "        rect = patches.Rectangle(\n",
    "            (bbox.min_vertex[0], bbox.min_vertex[1]),\n",
    "            bbox.max_vertex[0] - bbox.min_vertex[0],\n",
    "            bbox.max_vertex[1] - bbox.min_vertex[1],\n",
    "            linewidth=2,\n",
    "            edgecolor=\"r\",\n",
    "            facecolor=\"none\",\n",
    "        )\n",
    "        axs.add_patch(rect)\n",
    "    axs.set_title(descriptor)\n",
    "    axs.imshow(img)\n",
    "\n",
    "    axs.axis(\"off\")"
   ]
  },
  {
   "cell_type": "markdown",
   "id": "e0cc6b52-f662-4458-8eed-64eee7d1d6e8",
   "metadata": {},
   "source": [
    "### RandomRain\n",
    "\n",
    "> This transform simulates rainfall by overlaying semi-transparent streaks onto the image,\n",
    "  creating a realistic rain effect. It can be used to augment datasets for computer vision\n",
    "  tasks that need to perform well in rainy conditions.\n",
    "\n",
    "Note the arguments to `AlbumentationsPerturber`:\n",
    "- `perturber`: Name of the class which extends `BasicTransform`\n",
    "- `parameters`: Parameters to the constructor of the chosen `perturber`\n",
    "- `seed`: Optional. Sets a seed for random elements of the perturber for reproducibility\n",
    "\n",
    "Note that `paramters[\"p\"]` represents a probability of the perturbation occuring and is `0.5` by default.\n",
    "To ensure the transform occurs, included `\"p\": 1.0` in `paramters`."
   ]
  },
  {
   "cell_type": "code",
   "execution_count": null,
   "id": "bff7a590-1d55-4689-86cc-a71488fd2af7",
   "metadata": {},
   "outputs": [],
   "source": [
    "parameters = {\"brightness_coefficient\": 0.9, \"drop_width\": 1, \"blur_value\": 5, \"p\": 1.0}\n",
    "perturber = AlbumentationsPerturber(perturber=\"RandomRain\", parameters=parameters, seed=7)\n",
    "img_out, _ = perturber(img)\n",
    "display_pert(img_out, \"RandomRain\")"
   ]
  },
  {
   "cell_type": "markdown",
   "id": "a3695ad8-7049-4fee-931a-d334e9d0682f",
   "metadata": {},
   "source": [
    "### RandomFog\n",
    "> Simulates fog for the image by adding random fog-like artifacts.\n",
    "This transform creates a fog effect by generating semi-transparent overlays\n",
    "that mimic the visual characteristics of fog. The fog intensity and distribution\n",
    "can be controlled to create various fog-like conditions."
   ]
  },
  {
   "cell_type": "code",
   "execution_count": null,
   "id": "1fe7d4b5-ce71-439a-a64e-b07607688044",
   "metadata": {},
   "outputs": [],
   "source": [
    "parameters = {\"fog_coef_range\": (0.7, 0.8), \"alpha_coef\": 0.1, \"p\": 1.0}\n",
    "perturber = AlbumentationsPerturber(perturber=\"RandomFog\", parameters=parameters, seed=7)\n",
    "img_out, _ = perturber(img)\n",
    "display_pert(img_out, \"RandomFog\")"
   ]
  },
  {
   "cell_type": "markdown",
   "id": "81d25087-597d-4c92-ba4f-e2a9b454bfbd",
   "metadata": {},
   "source": [
    "### RandomSnow\n",
    "\n",
    "> This transform simulates snowfall by either bleaching out some pixel values"
   ]
  },
  {
   "cell_type": "code",
   "execution_count": null,
   "id": "1c9a7205-b841-4b3a-8d61-29aa793bcac2",
   "metadata": {},
   "outputs": [],
   "source": [
    "parameters = {\"snow_point_range\": (0.2, 0.4), \"brightness_coeff\": 2.5, \"p\": 1.0}\n",
    "\n",
    "perturber = AlbumentationsPerturber(perturber=\"RandomSnow\", parameters=parameters, seed=7)\n",
    "img_out, _ = perturber(img)\n",
    "display_pert(img_out, \"RandomSnow\")"
   ]
  },
  {
   "cell_type": "markdown",
   "id": "78ca3c4c-b492-4e4a-a32d-9a52b89544c7",
   "metadata": {},
   "source": [
    "### RandomSunFlare\n",
    "\n",
    "> Simulates a sun flare effect on the image by adding circles of light.\n",
    "> This transform creates a sun flare effect by overlaying multiple semi-transparent\n",
    "> circles of varying sizes and intensities along a line originating from a \"sun\" point.\n"
   ]
  },
  {
   "cell_type": "code",
   "execution_count": null,
   "id": "d79ff410-650f-4172-910d-e508445cf25c",
   "metadata": {},
   "outputs": [],
   "source": [
    "parameters = {\"flare_roi\": (0, 0, 1, 0.5), \"angle_range\": (0.25, 0.75), \"p\": 1.0}\n",
    "\n",
    "perturber = AlbumentationsPerturber(perturber=\"RandomSunFlare\", parameters=parameters, seed=7)\n",
    "img_out, _ = perturber(img)\n",
    "display_pert(img_out, \"RandomSunFlare\")"
   ]
  },
  {
   "cell_type": "markdown",
   "id": "4c2c35dc-68e7-40b0-9694-fe2b994617d5",
   "metadata": {},
   "source": [
    "## Bounding Boxes\n",
    "\n",
    "The following example performs a `HorizontalFlip` in order to demonstrate how bounding boxes are updated by a transform."
   ]
  },
  {
   "cell_type": "code",
   "execution_count": null,
   "id": "4a7c5aed-5c5f-4a3a-bfbf-71b2bb9ecef6",
   "metadata": {},
   "outputs": [],
   "source": [
    "conf_dict = dict()\n",
    "conf_dict[\"label\"] = 1.0\n",
    "bboxes = [(AxisAlignedBoundingBox((770, 120), (850, 300)), conf_dict)]\n",
    "perturber = AlbumentationsPerturber(perturber=\"HorizontalFlip\", parameters={\"p\": 1})\n",
    "img_out, output_bboxes = perturber(img, bboxes)\n",
    "display_pert(img, \"Original\", bbox=bboxes[0][0])\n",
    "if output_bboxes:\n",
    "    op_bboxes = list(output_bboxes)[0][0]\n",
    "    display_pert(img_out, \"HorizontalFlip\", bbox=op_bboxes)"
   ]
  },
  {
   "cell_type": "code",
   "execution_count": null,
   "id": "c7c39d51-204f-4ce0-9f52-d675f58bcd74",
   "metadata": {},
   "outputs": [],
   "source": []
  }
 ],
 "metadata": {
  "kernelspec": {
   "display_name": "Python 3 (ipykernel)",
   "language": "python",
   "name": "python3"
  },
  "language_info": {
   "codemirror_mode": {
    "name": "ipython",
    "version": 3
   },
   "file_extension": ".py",
   "mimetype": "text/x-python",
   "name": "python",
   "nbconvert_exporter": "python",
   "pygments_lexer": "ipython3",
   "version": "3.10.14"
  }
 },
 "nbformat": 4,
 "nbformat_minor": 5
}
