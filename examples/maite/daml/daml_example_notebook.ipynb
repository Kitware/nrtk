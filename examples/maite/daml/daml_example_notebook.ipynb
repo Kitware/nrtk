{
 "cells": [
  {
   "cell_type": "markdown",
   "metadata": {},
   "source": [
    "# DAML Dataset Evaluation with NRTK Perturber\n",
    "This is a notebook demonstrating how sensor and scenario perturbations from the Natural Robustness Toolkit (NRTK) affect the DP Divergence metric generated using the Data-Analysis Metrics Library (DAML). It is necessary that the user runs this notebook using python 3.8 due to the environment in which the encoder was trained. This notebook has pinned daml to version 0.42.1 in order to maintain stability while daml is undergoing active development\n",
    "\n",
    "## Table Of Contents\n",
    "\n",
    "* [Environment Setup](#environment-setup)\n",
    "* [Perturber Instantiation](#perturber-instantiation)\n",
    "* [Dataset Creation](#dataset-creation)\n",
    "* [Load The Model](#load-the-model)\n",
    "* [Evaluate Datasets](#evaluate-datasets)"
   ]
  },
  {
   "cell_type": "markdown",
   "metadata": {},
   "source": [
    "## Environment Setup <a name=\"environment-setup\"></a>"
   ]
  },
  {
   "cell_type": "markdown",
   "metadata": {},
   "source": [
    "First we install and import dependencies. This notebook assumes that the user is operating in an environment consistent with the NRTK poetry file and with NRTK already installed as well."
   ]
  },
  {
   "cell_type": "code",
   "execution_count": 1,
   "metadata": {},
   "outputs": [
    {
     "name": "stdout",
     "output_type": "stream",
     "text": [
      "Installing matplotlib...\n",
      "Installing alibi_detect...\n",
      "\u001b[31mERROR: pip's dependency resolver does not currently take into account all the packages that are installed. This behaviour is the source of the following dependency conflicts.\n",
      "sahi 0.11.15 requires opencv-python<=4.8, but you have opencv-python 4.9.0.80 which is incompatible.\u001b[0m\u001b[31m\n",
      "\u001b[0mInstalling daml...\n",
      "Installing tensorflow...\n",
      "Requirement already satisfied: tensorflow-probability in /home/local/KHQ/alexander.lynch/anaconda3/envs/daml_test/lib/python3.8/site-packages (0.21.0)\n",
      "Requirement already satisfied: absl-py in /home/local/KHQ/alexander.lynch/.local/lib/python3.8/site-packages (from tensorflow-probability) (2.0.0)\n",
      "Requirement already satisfied: six>=1.10.0 in /home/local/KHQ/alexander.lynch/anaconda3/envs/daml_test/lib/python3.8/site-packages (from tensorflow-probability) (1.16.0)\n",
      "Requirement already satisfied: numpy>=1.13.3 in /home/local/KHQ/alexander.lynch/anaconda3/envs/daml_test/lib/python3.8/site-packages (from tensorflow-probability) (1.24.3)\n",
      "Requirement already satisfied: decorator in /home/local/KHQ/alexander.lynch/anaconda3/envs/daml_test/lib/python3.8/site-packages (from tensorflow-probability) (5.1.1)\n",
      "Requirement already satisfied: cloudpickle>=1.3 in /home/local/KHQ/alexander.lynch/anaconda3/envs/daml_test/lib/python3.8/site-packages (from tensorflow-probability) (3.0.0)\n",
      "Requirement already satisfied: gast>=0.3.2 in /home/local/KHQ/alexander.lynch/.local/lib/python3.8/site-packages (from tensorflow-probability) (0.4.0)\n",
      "Requirement already satisfied: dm-tree in /home/local/KHQ/alexander.lynch/anaconda3/envs/daml_test/lib/python3.8/site-packages (from tensorflow-probability) (0.1.8)\n",
      "Requirement already satisfied: typing-extensions<4.6.0 in /home/local/KHQ/alexander.lynch/anaconda3/envs/daml_test/lib/python3.8/site-packages (from tensorflow-probability) (4.5.0)\n",
      "Installing headless OpenCV...\n",
      "\u001b[31mERROR: pip's dependency resolver does not currently take into account all the packages that are installed. This behaviour is the source of the following dependency conflicts.\n",
      "roboflow 1.1.14 requires python-dotenv, which is not installed.\n",
      "yolov5 7.0.13 requires opencv-python>=4.1.1, which is not installed.\n",
      "roboflow 1.1.14 requires cycler==0.10.0, but you have cycler 0.12.1 which is incompatible.\n",
      "roboflow 1.1.14 requires opencv-python-headless==4.8.0.74, but you have opencv-python-headless 4.9.0.80 which is incompatible.\n",
      "supervision 0.17.1 requires opencv-python-headless<=4.8.1.78,>=4.5.5.64, but you have opencv-python-headless 4.9.0.80 which is incompatible.\u001b[0m\u001b[31m\n",
      "\u001b[0mDone!\n"
     ]
    }
   ],
   "source": [
    "import sys  # noqa: F401\n",
    "\n",
    "!{sys.executable} -m pip install -qU pip\n",
    "print(\"Installing matplotlib...\")\n",
    "!{sys.executable} -m pip install -q matplotlib\n",
    "print(\"Installing alibi_detect...\")\n",
    "# !{sys.executable} -m pip install -q alibi_detect\n",
    "print(\"Installing daml...\")\n",
    "!{sys.executable} -m pip install -q daml==v0.42.1\n",
    "print(\"Installing tensorflow...\")\n",
    "!{sys.executable} -m pip install -q tensorflow\n",
    "!{sys.executable} -m pip install tensorflow-probability\n",
    "\n",
    "# Remove opencv-python, which requires libGL, which we don't require here, and replace with opencv-python-headless\n",
    "print(\"Installing headless OpenCV...\")\n",
    "!{sys.executable} -m pip uninstall -qy opencv-python opencv-python-headless  # make sure they're both gone.\n",
    "!{sys.executable} -m pip install -q opencv-python-headless\n",
    "\n",
    "print(\"Done!\")"
   ]
  },
  {
   "cell_type": "code",
   "execution_count": 2,
   "metadata": {},
   "outputs": [],
   "source": [
    "import json\n",
    "import os\n",
    "from typing import Optional\n",
    "\n",
    "import cv2\n",
    "import matplotlib.pyplot as plt\n",
    "import numpy as np\n",
    "from daml.metrics.divergence import HP_FNN  # type: ignore"
   ]
  },
  {
   "cell_type": "markdown",
   "metadata": {},
   "source": [
    "We define two helper functions. `stretch_contrast_convert_8bit` is a function that stretches the contrast to the full capacity of the image. This is used to ensure the colors in the images match before running them through the DP Divergence calculation. The second function is `crop_image` which takes in a single image in and splits it into a set of output tiles."
   ]
  },
  {
   "cell_type": "code",
   "execution_count": 3,
   "metadata": {},
   "outputs": [],
   "source": [
    "def stretch_contrast_convert_8bit(img: np.ndarray, perc: Optional[tuple[float, float]]) -> np.ndarray:\n",
    "    \"\"\"Stretch the contrast to the full capacity of the image\"\"\"\n",
    "    if perc is None:\n",
    "        perc = [0.1, 99.9]\n",
    "    img = img.astype(float)\n",
    "    img = img - np.percentile(img.ravel(), perc[0])\n",
    "    img = img / (np.percentile(img.ravel(), perc[1]) / 255)\n",
    "    img = np.clip(img, 0, 255)\n",
    "    return np.round(img).astype(np.uint8)"
   ]
  },
  {
   "cell_type": "code",
   "execution_count": 4,
   "metadata": {},
   "outputs": [],
   "source": [
    "def crop_image(img: np.ndarray, input_size: int = 512, output_size: int = 64) -> list(np.ndarray):\n",
    "    \"\"\"Crops a input_sizexinput_sizex3 image into a set of output_sizexoutput_sizex3 images.\n",
    "\n",
    "    Args:\n",
    "      img: A numpy array representing an image.\n",
    "\n",
    "      input_size: the edge size of a square image\n",
    "\n",
    "      output_size: the desired edge size of the cropped image\n",
    "\n",
    "    Returns:\n",
    "      A list of output_sizexoutput_sizex3 numpy arrays representing the cropped images.\n",
    "    \"\"\"\n",
    "\n",
    "    return [\n",
    "        img[i : i + output_size, j : j + output_size, :]\n",
    "        for j in range(0, input_size, output_size)\n",
    "        for i in range(0, input_size, output_size)\n",
    "    ]"
   ]
  },
  {
   "cell_type": "markdown",
   "metadata": {},
   "source": [
    "## Perturber Instantiation <a name=\"perturber-instantiation\"></a>"
   ]
  },
  {
   "cell_type": "markdown",
   "metadata": {},
   "source": [
    "We next define the parameters of both the sensor and scenario objects that NRTK uses to perturb the images. From this base set of parameters, we create a set of perturbers with varying focal length and ground range parameters."
   ]
  },
  {
   "cell_type": "code",
   "execution_count": 5,
   "metadata": {},
   "outputs": [],
   "source": [
    "from pybsm.otf import dark_current_from_density\n",
    "\n",
    "from nrtk.impls.perturb_image.pybsm.scenario import PybsmScenario\n",
    "from nrtk.impls.perturb_image.pybsm.sensor import PybsmSensor\n",
    "\n",
    "# telescope focal length (m)\n",
    "f = 0.6\n",
    "# Telescope diameter (m)\n",
    "D = 0.0648\n",
    "\n",
    "# detector pitch (m)\n",
    "p = 2e-05\n",
    "# Optical system transmission, red  band first (m)\n",
    "opt_trans_wavelengths = np.array([0.85 - 0.15, 0.85 + 0.15]) * 1.0e-6\n",
    "\n",
    "L3 = PybsmSensor(\n",
    "    # required\n",
    "    name=\"L32511x\",\n",
    "    D=D,  # Telescope diameter (m)\n",
    "    f=f,  # telescope focal length (m)\n",
    "    p_x=p,  # detector pitch (m)\n",
    "    opt_trans_wavelengths=opt_trans_wavelengths,  # Optical system transmission, red  band first (m)\n",
    "    # optional\n",
    "    optics_transmission=0.5\n",
    "    * np.ones(opt_trans_wavelengths.shape[0]),  # guess at the full system optical transmission (excluding obscuration)\n",
    "    eta=0.4,  # guess\n",
    "    w_x=p,  # detector width is assumed to be equal to the pitch\n",
    "    w_y=p,  # detector width is assumed to be equal to the pitch\n",
    "    # ini_time is set to a maximum, the actual integration time will be, determined by the well fill percentage\n",
    "    int_time=30.0e-3,  # integration time (s)\n",
    "    dark_current=dark_current_from_density(\n",
    "        1e-5,\n",
    "        p,\n",
    "        p,\n",
    "    ),  # dark current density of 1 nA/cm2 guess, guess mid range for a silicon camera\n",
    "    read_noise=25.0,  # rms read noise (rms electrons)\n",
    "    max_n=96000.0,  # maximum ADC level (electrons)\n",
    "    bit_depth=11.9,  # bit depth\n",
    "    max_well_fill=0.6,  # maximum allowable well fill (see the paper for the logic behind this)\n",
    "    s_x=0.25 * p / f,  # jitter (radians) - The Olson paper says that its \"good\" so we'll guess 1/4 ifov rms\n",
    "    s_y=0.25 * p / f,  # jitter (radians) - The Olson paper says that its \"good\" so we'll guess 1/4 ifov rms\n",
    "    da_x=100e-6,  # drift (radians/s) - again, we'll guess that it's really good\n",
    "    da_y=100e-6,  # drift (radians/s) - again, we'll guess that it's really good\n",
    "    qe_wavelengths=np.array([0.3, 0.4, 0.5, 0.6, 0.7, 0.8, 0.9, 1.0, 1.1]) * 1.0e-6,\n",
    "    qe=np.array([0.05, 0.6, 0.75, 0.85, 0.85, 0.75, 0.5, 0.2, 0]),\n",
    ")\n",
    "\n",
    "S = PybsmScenario(\n",
    "    name=\"niceday\",\n",
    "    ihaze=1,  # weather model\n",
    "    altitude=9000.0,  # sensor altitude\n",
    "    ground_range=0.0,  # range to target\n",
    "    aircraft_speed=100.0,\n",
    ")"
   ]
  },
  {
   "cell_type": "code",
   "execution_count": 6,
   "metadata": {},
   "outputs": [],
   "source": [
    "from nrtk.impls.perturb_image.pybsm.perturber import PybsmPerturber\n",
    "\n",
    "# create focal length perturbers\n",
    "L3.f = 0.6\n",
    "fl_perturber_0 = PybsmPerturber(L3, S)\n",
    "L3.f = 0.4\n",
    "fl_perturber_1 = PybsmPerturber(L3, S)\n",
    "L3.f = 0.2\n",
    "fl_perturber_2 = PybsmPerturber(L3, S)\n",
    "L3.f = 0.1\n",
    "fl_perturber_3 = PybsmPerturber(L3, S)\n",
    "fl_perturbers = [fl_perturber_0, fl_perturber_1, fl_perturber_2, fl_perturber_3]\n",
    "\n",
    "# reset f for the ground range perturbers\n",
    "L3.f = 0.1\n",
    "\n",
    "# create ground range perturbers\n",
    "S.ground_range = 0\n",
    "gr_perturber_0 = PybsmPerturber(L3, S)\n",
    "S.ground_range = 2000\n",
    "gr_perturber_1 = PybsmPerturber(L3, S)\n",
    "S.ground_range = 4000\n",
    "gr_perturber_2 = PybsmPerturber(L3, S)\n",
    "S.ground_range = 6000\n",
    "gr_perturber_3 = PybsmPerturber(L3, S)\n",
    "gr_perturbers = [gr_perturber_0, gr_perturber_1, gr_perturber_2, gr_perturber_3]"
   ]
  },
  {
   "cell_type": "markdown",
   "metadata": {},
   "source": [
    "## Dataset Creation <a name=\"dataset-creation\"></a>"
   ]
  },
  {
   "cell_type": "markdown",
   "metadata": {},
   "source": [
    "After loading the perturbers we load in a set of 10 xView images, run them through each of the perturbers, and crop the images to get a set of 64x64 sized perturbed output images. Additionally we load in a set of 10 unperturbed xView images that are cropped to the same size as the perturbed images."
   ]
  },
  {
   "cell_type": "code",
   "execution_count": 7,
   "metadata": {},
   "outputs": [],
   "source": [
    "# prepare focal length perturbed dataset\n",
    "im_folder = \"./daml/data/perturbed/\"\n",
    "crop_size = 64\n",
    "reshape = (512, 512)\n",
    "fl_datasets = []\n",
    "\n",
    "for perturber in fl_perturbers:\n",
    "    perturbed_ims = []\n",
    "    for file in os.listdir(im_folder):\n",
    "        im = cv2.imread(im_folder + file)\n",
    "        im = perturber(im, {\"img_gsd\": 0.3})\n",
    "        im = cv2.resize(im, reshape, interpolation=cv2.INTER_AREA)\n",
    "        im = stretch_contrast_convert_8bit(im)\n",
    "        cropped_images = crop_image(im, im.shape[0], crop_size)\n",
    "        perturbed_ims.extend(cropped_images)\n",
    "    fl_perturbed_ims = np.array(perturbed_ims)\n",
    "    fl_datasets.append(fl_perturbed_ims)"
   ]
  },
  {
   "cell_type": "code",
   "execution_count": 8,
   "metadata": {},
   "outputs": [],
   "source": [
    "# prepare ground range perturbed dataset\n",
    "im_folder = \"./daml/data/perturbed/\"\n",
    "perturbed_ims = []\n",
    "gr_datasets = []\n",
    "\n",
    "for perturber in gr_perturbers:\n",
    "    perturbed_ims = []\n",
    "    for file in os.listdir(im_folder):\n",
    "        im = cv2.imread(im_folder + file)\n",
    "        im = perturber(im, {\"img_gsd\": 0.3})\n",
    "        im = cv2.resize(im, reshape, interpolation=cv2.INTER_AREA)\n",
    "        im = stretch_contrast_convert_8bit(im)\n",
    "        cropped_images = crop_image(im, im.shape[0], crop_size)\n",
    "        perturbed_ims.extend(cropped_images)\n",
    "    gr_perturbed_ims = np.array(perturbed_ims)\n",
    "    gr_datasets.append(gr_perturbed_ims)"
   ]
  },
  {
   "cell_type": "code",
   "execution_count": 9,
   "metadata": {},
   "outputs": [],
   "source": [
    "# prepare unperturbed dataset\n",
    "im_folder = \"./daml/data/unperturbed/\"\n",
    "crop_size = 64\n",
    "unperturbed_ims = []\n",
    "for file in os.listdir(im_folder):\n",
    "    im = cv2.imread(im_folder + file)  # , cv2.COLOR_BGR2GRAY)\n",
    "    im = stretch_contrast_convert_8bit(im)\n",
    "    cropped_images = crop_image(im, im.shape[0], crop_size)\n",
    "    unperturbed_ims.extend(cropped_images)\n",
    "\n",
    "unperturbed_ims = np.array(unperturbed_ims)"
   ]
  },
  {
   "cell_type": "markdown",
   "metadata": {},
   "source": [
    "## Load the Model <a name=\"load-the-model\"></a>"
   ]
  },
  {
   "cell_type": "markdown",
   "metadata": {},
   "source": [
    "Next to finish the preparation steps we load in an encoder extracted from an instance of the AE class from `daml.metrics.outlier_detection` that has been trained on cropped chips from xView images. The encoder that is loaded in was trained on the entire set of xView images located in the folder here: https://gitlab.jatic.net/jatic/demos/-/tree/main/increment2/supporting_files/satellite_te/xview/chipped?ref_type=heads\n",
    "\n",
    "These images were then cropped into 64x64 sized tiles."
   ]
  },
  {
   "cell_type": "code",
   "execution_count": 10,
   "metadata": {},
   "outputs": [
    {
     "name": "stderr",
     "output_type": "stream",
     "text": [
      "2024-03-06 16:40:00.885999: I tensorflow/core/util/port.cc:110] oneDNN custom operations are on. You may see slightly different numerical results due to floating-point round-off errors from different computation orders. To turn them off, set the environment variable `TF_ENABLE_ONEDNN_OPTS=0`.\n",
      "2024-03-06 16:40:00.917063: I tensorflow/core/platform/cpu_feature_guard.cc:182] This TensorFlow binary is optimized to use available CPU instructions in performance-critical operations.\n",
      "To enable the following instructions: AVX2 AVX_VNNI FMA, in other operations, rebuild TensorFlow with the appropriate compiler flags.\n",
      "2024-03-06 16:40:01.611565: W tensorflow/compiler/tf2tensorrt/utils/py_utils.cc:38] TF-TRT Warning: Could not find TensorRT\n",
      "2024-03-06 16:40:04.152174: I tensorflow/compiler/xla/stream_executor/cuda/cuda_gpu_executor.cc:995] successful NUMA node read from SysFS had negative value (-1), but there must be at least one NUMA node, so returning NUMA node zero. See more at https://github.com/torvalds/linux/blob/v6.0/Documentation/ABI/testing/sysfs-bus-pci#L344-L355\n",
      "2024-03-06 16:40:04.157401: I tensorflow/compiler/xla/stream_executor/cuda/cuda_gpu_executor.cc:995] successful NUMA node read from SysFS had negative value (-1), but there must be at least one NUMA node, so returning NUMA node zero. See more at https://github.com/torvalds/linux/blob/v6.0/Documentation/ABI/testing/sysfs-bus-pci#L344-L355\n",
      "2024-03-06 16:40:04.157563: I tensorflow/compiler/xla/stream_executor/cuda/cuda_gpu_executor.cc:995] successful NUMA node read from SysFS had negative value (-1), but there must be at least one NUMA node, so returning NUMA node zero. See more at https://github.com/torvalds/linux/blob/v6.0/Documentation/ABI/testing/sysfs-bus-pci#L344-L355\n",
      "2024-03-06 16:40:04.159381: I tensorflow/compiler/xla/stream_executor/cuda/cuda_gpu_executor.cc:995] successful NUMA node read from SysFS had negative value (-1), but there must be at least one NUMA node, so returning NUMA node zero. See more at https://github.com/torvalds/linux/blob/v6.0/Documentation/ABI/testing/sysfs-bus-pci#L344-L355\n",
      "2024-03-06 16:40:04.159498: I tensorflow/compiler/xla/stream_executor/cuda/cuda_gpu_executor.cc:995] successful NUMA node read from SysFS had negative value (-1), but there must be at least one NUMA node, so returning NUMA node zero. See more at https://github.com/torvalds/linux/blob/v6.0/Documentation/ABI/testing/sysfs-bus-pci#L344-L355\n",
      "2024-03-06 16:40:04.159566: I tensorflow/compiler/xla/stream_executor/cuda/cuda_gpu_executor.cc:995] successful NUMA node read from SysFS had negative value (-1), but there must be at least one NUMA node, so returning NUMA node zero. See more at https://github.com/torvalds/linux/blob/v6.0/Documentation/ABI/testing/sysfs-bus-pci#L344-L355\n",
      "2024-03-06 16:40:04.529745: I tensorflow/compiler/xla/stream_executor/cuda/cuda_gpu_executor.cc:995] successful NUMA node read from SysFS had negative value (-1), but there must be at least one NUMA node, so returning NUMA node zero. See more at https://github.com/torvalds/linux/blob/v6.0/Documentation/ABI/testing/sysfs-bus-pci#L344-L355\n",
      "2024-03-06 16:40:04.529876: I tensorflow/compiler/xla/stream_executor/cuda/cuda_gpu_executor.cc:995] successful NUMA node read from SysFS had negative value (-1), but there must be at least one NUMA node, so returning NUMA node zero. See more at https://github.com/torvalds/linux/blob/v6.0/Documentation/ABI/testing/sysfs-bus-pci#L344-L355\n",
      "2024-03-06 16:40:04.529944: I tensorflow/compiler/xla/stream_executor/cuda/cuda_gpu_executor.cc:995] successful NUMA node read from SysFS had negative value (-1), but there must be at least one NUMA node, so returning NUMA node zero. See more at https://github.com/torvalds/linux/blob/v6.0/Documentation/ABI/testing/sysfs-bus-pci#L344-L355\n",
      "2024-03-06 16:40:04.530002: I tensorflow/core/common_runtime/gpu/gpu_device.cc:1639] Created device /job:localhost/replica:0/task:0/device:GPU:0 with 8203 MB memory:  -> device: 0, name: NVIDIA RTX A3000 12GB Laptop GPU, pci bus id: 0000:01:00.0, compute capability: 8.6\n"
     ]
    }
   ],
   "source": [
    "# Load encoder from .pkl file\n",
    "encoder_file = \"./daml/model/xview_encoder.pkl\"\n",
    "\n",
    "with open(encoder_file, \"rb\") as outp:\n",
    "    encoder = json.load(outp)"
   ]
  },
  {
   "cell_type": "markdown",
   "metadata": {},
   "source": [
    "## Evaluate Datasets <a name=\"evaluate-datasets\"></a>"
   ]
  },
  {
   "cell_type": "markdown",
   "metadata": {},
   "source": [
    "Finally we generate features for the set of unperturbed images, focal length perturbed images, and ground range perturbed images.\n",
    "Once we have the encodings we can compare the perturbed image features against the unperturbed image features to get the DP Divergence values."
   ]
  },
  {
   "cell_type": "code",
   "execution_count": 11,
   "metadata": {},
   "outputs": [
    {
     "name": "stderr",
     "output_type": "stream",
     "text": [
      "2024-03-06 16:40:07.206737: I tensorflow/compiler/xla/stream_executor/cuda/cuda_dnn.cc:432] Loaded cuDNN version 8902\n",
      "2024-03-06 16:40:07.874849: E tensorflow/compiler/xla/stream_executor/gpu/asm_compiler.cc:114] *** WARNING *** You are using ptxas 10.1.243, which is older than 11.1. ptxas before 11.1 is known to miscompile XLA code, leading to incorrect results or invalid-address errors.\n",
      "\n",
      "2024-03-06 16:40:07.881585: W tensorflow/compiler/xla/stream_executor/gpu/asm_compiler.cc:231] Falling back to the CUDA driver for PTX compilation; ptxas does not support CC 8.6\n",
      "2024-03-06 16:40:07.881608: W tensorflow/compiler/xla/stream_executor/gpu/asm_compiler.cc:234] Used ptxas at ptxas\n",
      "2024-03-06 16:40:07.881774: W tensorflow/compiler/xla/stream_executor/gpu/redzone_allocator.cc:318] UNIMPLEMENTED: ptxas ptxas too old. Falling back to the driver to compile.\n",
      "Relying on driver to perform ptx compilation. \n",
      "Modify $PATH to customize ptxas location.\n",
      "This message will be only logged once.\n",
      "2024-03-06 16:40:09.875319: I tensorflow/compiler/xla/stream_executor/cuda/cuda_blas.cc:606] TensorFloat-32 will be used for the matrix multiplication. This will only be logged once.\n"
     ]
    }
   ],
   "source": [
    "# Run images through encoder, extract features, and compare with dpdivergence\n",
    "fl_results = []\n",
    "gr_results = []\n",
    "\n",
    "unperturbed_feats = encoder(unperturbed_ims).numpy()\n",
    "for i in range(len(fl_datasets)):\n",
    "    fl_perturbed_feats = encoder(fl_datasets[i]).numpy()\n",
    "    gr_perturbed_feats = encoder(gr_datasets[i]).numpy()\n",
    "    fl_dp_divergence = HP_FNN(data_a=unperturbed_feats, data_b=fl_perturbed_feats).evaluate()\n",
    "    gr_dp_divergence = HP_FNN(data_a=unperturbed_feats, data_b=gr_perturbed_feats).evaluate()\n",
    "\n",
    "    fl_results.append(fl_dp_divergence.dpdivergence)\n",
    "    gr_results.append(gr_dp_divergence.dpdivergence)"
   ]
  },
  {
   "cell_type": "markdown",
   "metadata": {},
   "source": [
    "Below are the DP Divergence values for each perturbation metric when measured against the unperturbed images. The red dashed line indicates the parameter value of the simulated image with the estimated parameters of the camera, and the DP Divergence generally increases as each metric gets further away from the starting parameter. "
   ]
  },
  {
   "cell_type": "code",
   "execution_count": null,
   "metadata": {},
   "outputs": [
    {
     "data": {
      "text/plain": [
       "[<matplotlib.lines.Line2D at 0x7ff1f507d7c0>]"
      ]
     },
     "execution_count": 12,
     "metadata": {},
     "output_type": "execute_result"
    },
    {
     "data": {
      "image/png": "[encoded data removed]",
      "text/plain": [
       "<Figure size 640x480 with 1 Axes>"
      ]
     },
     "metadata": {},
     "output_type": "display_data"
    }
   ],
   "source": [
    "f = [0.6, 0.4, 0.2, 0.1]\n",
    "\n",
    "plt.title(\"Focal Length Perturbation vs DP Divergence\")\n",
    "plt.xlabel(\"Focal Length\")\n",
    "plt.ylabel(\"DP Divergence\")\n",
    "plt.vlines(x=[0.6], ymin=0.5, ymax=0.7, colors=\"red\", ls=\"--\", lw=2, label=\"Original Image Focal Length\")\n",
    "\n",
    "plt.plot(f, fl_results)"
   ]
  },
  {
   "cell_type": "code",
   "execution_count": null,
   "metadata": {},
   "outputs": [
    {
     "data": {
      "text/plain": [
       "[<matplotlib.lines.Line2D at 0x7ff1f4f77250>]"
      ]
     },
     "execution_count": 13,
     "metadata": {},
     "output_type": "execute_result"
    },
    {
     "data": {
      "image/png": "[encoded data removed]",
      "text/plain": [
       "<Figure size 640x480 with 1 Axes>"
      ]
     },
     "metadata": {},
     "output_type": "display_data"
    }
   ],
   "source": [
    "gr = [0, 1000, 3000, 5000]\n",
    "\n",
    "plt.title(\"Ground Range Perturbation vs DP Divergence\")\n",
    "plt.xlabel(\"Ground Range\")\n",
    "plt.ylabel(\"DP Divergence\")\n",
    "plt.vlines(x=[0], ymin=0.65, ymax=0.7, colors=\"red\", ls=\"--\", lw=2, label=\"Original Image Ground Range\")\n",
    "\n",
    "plt.plot(gr, gr_results)"
   ]
  }
 ],
 "metadata": {
  "kernelspec": {
   "display_name": "Python 3 (ipykernel)",
   "language": "python",
   "name": "python3"
  },
  "language_info": {
   "codemirror_mode": {
    "name": "ipython",
    "version": 3
   },
   "file_extension": ".py",
   "mimetype": "text/x-python",
   "name": "python",
   "nbconvert_exporter": "python",
   "pygments_lexer": "ipython3",
   "version": "3.9.19"
  }
 },
 "nbformat": 4,
 "nbformat_minor": 4
}
